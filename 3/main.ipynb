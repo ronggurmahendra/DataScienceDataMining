{
 "cells": [
  {
   "cell_type": "markdown",
   "metadata": {},
   "source": [
    "# W03 Data Science Data Mining \n",
    "\n",
    "Nama : Ronggur Mahendra Widya Putra\n",
    "\n",
    "NIM : 13519008"
   ]
  },
  {
   "cell_type": "code",
   "execution_count": 6,
   "metadata": {},
   "outputs": [],
   "source": [
    "import pandas as pd \n",
    "import numpy as np\n",
    "import scipy\n",
    "import matplotlib.pyplot as plt\n",
    "import sklearn"
   ]
  },
  {
   "cell_type": "code",
   "execution_count": 9,
   "metadata": {},
   "outputs": [],
   "source": [
    "df = pd.read_excel(\"./online_retail_II.xlsx\")\n"
   ]
  },
  {
   "cell_type": "code",
   "execution_count": 10,
   "metadata": {},
   "outputs": [
    {
     "data": {
      "text/html": [
       "<div>\n",
       "<style scoped>\n",
       "    .dataframe tbody tr th:only-of-type {\n",
       "        vertical-align: middle;\n",
       "    }\n",
       "\n",
       "    .dataframe tbody tr th {\n",
       "        vertical-align: top;\n",
       "    }\n",
       "\n",
       "    .dataframe thead th {\n",
       "        text-align: right;\n",
       "    }\n",
       "</style>\n",
       "<table border=\"1\" class=\"dataframe\">\n",
       "  <thead>\n",
       "    <tr style=\"text-align: right;\">\n",
       "      <th></th>\n",
       "      <th>Invoice</th>\n",
       "      <th>StockCode</th>\n",
       "      <th>Description</th>\n",
       "      <th>Quantity</th>\n",
       "      <th>InvoiceDate</th>\n",
       "      <th>Price</th>\n",
       "      <th>Customer ID</th>\n",
       "      <th>Country</th>\n",
       "    </tr>\n",
       "  </thead>\n",
       "  <tbody>\n",
       "    <tr>\n",
       "      <th>0</th>\n",
       "      <td>489434</td>\n",
       "      <td>85048</td>\n",
       "      <td>15CM CHRISTMAS GLASS BALL 20 LIGHTS</td>\n",
       "      <td>12</td>\n",
       "      <td>2009-12-01 07:45:00</td>\n",
       "      <td>6.95</td>\n",
       "      <td>13085.0</td>\n",
       "      <td>United Kingdom</td>\n",
       "    </tr>\n",
       "    <tr>\n",
       "      <th>1</th>\n",
       "      <td>489434</td>\n",
       "      <td>79323P</td>\n",
       "      <td>PINK CHERRY LIGHTS</td>\n",
       "      <td>12</td>\n",
       "      <td>2009-12-01 07:45:00</td>\n",
       "      <td>6.75</td>\n",
       "      <td>13085.0</td>\n",
       "      <td>United Kingdom</td>\n",
       "    </tr>\n",
       "    <tr>\n",
       "      <th>2</th>\n",
       "      <td>489434</td>\n",
       "      <td>79323W</td>\n",
       "      <td>WHITE CHERRY LIGHTS</td>\n",
       "      <td>12</td>\n",
       "      <td>2009-12-01 07:45:00</td>\n",
       "      <td>6.75</td>\n",
       "      <td>13085.0</td>\n",
       "      <td>United Kingdom</td>\n",
       "    </tr>\n",
       "    <tr>\n",
       "      <th>3</th>\n",
       "      <td>489434</td>\n",
       "      <td>22041</td>\n",
       "      <td>RECORD FRAME 7\" SINGLE SIZE</td>\n",
       "      <td>48</td>\n",
       "      <td>2009-12-01 07:45:00</td>\n",
       "      <td>2.10</td>\n",
       "      <td>13085.0</td>\n",
       "      <td>United Kingdom</td>\n",
       "    </tr>\n",
       "    <tr>\n",
       "      <th>4</th>\n",
       "      <td>489434</td>\n",
       "      <td>21232</td>\n",
       "      <td>STRAWBERRY CERAMIC TRINKET BOX</td>\n",
       "      <td>24</td>\n",
       "      <td>2009-12-01 07:45:00</td>\n",
       "      <td>1.25</td>\n",
       "      <td>13085.0</td>\n",
       "      <td>United Kingdom</td>\n",
       "    </tr>\n",
       "    <tr>\n",
       "      <th>5</th>\n",
       "      <td>489434</td>\n",
       "      <td>22064</td>\n",
       "      <td>PINK DOUGHNUT TRINKET POT</td>\n",
       "      <td>24</td>\n",
       "      <td>2009-12-01 07:45:00</td>\n",
       "      <td>1.65</td>\n",
       "      <td>13085.0</td>\n",
       "      <td>United Kingdom</td>\n",
       "    </tr>\n",
       "    <tr>\n",
       "      <th>6</th>\n",
       "      <td>489434</td>\n",
       "      <td>21871</td>\n",
       "      <td>SAVE THE PLANET MUG</td>\n",
       "      <td>24</td>\n",
       "      <td>2009-12-01 07:45:00</td>\n",
       "      <td>1.25</td>\n",
       "      <td>13085.0</td>\n",
       "      <td>United Kingdom</td>\n",
       "    </tr>\n",
       "    <tr>\n",
       "      <th>7</th>\n",
       "      <td>489434</td>\n",
       "      <td>21523</td>\n",
       "      <td>FANCY FONT HOME SWEET HOME DOORMAT</td>\n",
       "      <td>10</td>\n",
       "      <td>2009-12-01 07:45:00</td>\n",
       "      <td>5.95</td>\n",
       "      <td>13085.0</td>\n",
       "      <td>United Kingdom</td>\n",
       "    </tr>\n",
       "    <tr>\n",
       "      <th>8</th>\n",
       "      <td>489435</td>\n",
       "      <td>22350</td>\n",
       "      <td>CAT BOWL</td>\n",
       "      <td>12</td>\n",
       "      <td>2009-12-01 07:46:00</td>\n",
       "      <td>2.55</td>\n",
       "      <td>13085.0</td>\n",
       "      <td>United Kingdom</td>\n",
       "    </tr>\n",
       "    <tr>\n",
       "      <th>9</th>\n",
       "      <td>489435</td>\n",
       "      <td>22349</td>\n",
       "      <td>DOG BOWL , CHASING BALL DESIGN</td>\n",
       "      <td>12</td>\n",
       "      <td>2009-12-01 07:46:00</td>\n",
       "      <td>3.75</td>\n",
       "      <td>13085.0</td>\n",
       "      <td>United Kingdom</td>\n",
       "    </tr>\n",
       "  </tbody>\n",
       "</table>\n",
       "</div>"
      ],
      "text/plain": [
       "  Invoice StockCode                          Description  Quantity  \\\n",
       "0  489434     85048  15CM CHRISTMAS GLASS BALL 20 LIGHTS        12   \n",
       "1  489434    79323P                   PINK CHERRY LIGHTS        12   \n",
       "2  489434    79323W                  WHITE CHERRY LIGHTS        12   \n",
       "3  489434     22041         RECORD FRAME 7\" SINGLE SIZE         48   \n",
       "4  489434     21232       STRAWBERRY CERAMIC TRINKET BOX        24   \n",
       "5  489434     22064           PINK DOUGHNUT TRINKET POT         24   \n",
       "6  489434     21871                  SAVE THE PLANET MUG        24   \n",
       "7  489434     21523   FANCY FONT HOME SWEET HOME DOORMAT        10   \n",
       "8  489435     22350                            CAT BOWL         12   \n",
       "9  489435     22349       DOG BOWL , CHASING BALL DESIGN        12   \n",
       "\n",
       "          InvoiceDate  Price  Customer ID         Country  \n",
       "0 2009-12-01 07:45:00   6.95      13085.0  United Kingdom  \n",
       "1 2009-12-01 07:45:00   6.75      13085.0  United Kingdom  \n",
       "2 2009-12-01 07:45:00   6.75      13085.0  United Kingdom  \n",
       "3 2009-12-01 07:45:00   2.10      13085.0  United Kingdom  \n",
       "4 2009-12-01 07:45:00   1.25      13085.0  United Kingdom  \n",
       "5 2009-12-01 07:45:00   1.65      13085.0  United Kingdom  \n",
       "6 2009-12-01 07:45:00   1.25      13085.0  United Kingdom  \n",
       "7 2009-12-01 07:45:00   5.95      13085.0  United Kingdom  \n",
       "8 2009-12-01 07:46:00   2.55      13085.0  United Kingdom  \n",
       "9 2009-12-01 07:46:00   3.75      13085.0  United Kingdom  "
      ]
     },
     "execution_count": 10,
     "metadata": {},
     "output_type": "execute_result"
    }
   ],
   "source": [
    "df.head(10)"
   ]
  },
  {
   "cell_type": "code",
   "execution_count": 11,
   "metadata": {},
   "outputs": [
    {
     "data": {
      "text/html": [
       "<div>\n",
       "<style scoped>\n",
       "    .dataframe tbody tr th:only-of-type {\n",
       "        vertical-align: middle;\n",
       "    }\n",
       "\n",
       "    .dataframe tbody tr th {\n",
       "        vertical-align: top;\n",
       "    }\n",
       "\n",
       "    .dataframe thead th {\n",
       "        text-align: right;\n",
       "    }\n",
       "</style>\n",
       "<table border=\"1\" class=\"dataframe\">\n",
       "  <thead>\n",
       "    <tr style=\"text-align: right;\">\n",
       "      <th></th>\n",
       "      <th>Quantity</th>\n",
       "      <th>Price</th>\n",
       "      <th>Customer ID</th>\n",
       "    </tr>\n",
       "  </thead>\n",
       "  <tbody>\n",
       "    <tr>\n",
       "      <th>count</th>\n",
       "      <td>525461.000000</td>\n",
       "      <td>525461.000000</td>\n",
       "      <td>417534.000000</td>\n",
       "    </tr>\n",
       "    <tr>\n",
       "      <th>mean</th>\n",
       "      <td>10.337667</td>\n",
       "      <td>4.688834</td>\n",
       "      <td>15360.645478</td>\n",
       "    </tr>\n",
       "    <tr>\n",
       "      <th>std</th>\n",
       "      <td>107.424110</td>\n",
       "      <td>146.126914</td>\n",
       "      <td>1680.811316</td>\n",
       "    </tr>\n",
       "    <tr>\n",
       "      <th>min</th>\n",
       "      <td>-9600.000000</td>\n",
       "      <td>-53594.360000</td>\n",
       "      <td>12346.000000</td>\n",
       "    </tr>\n",
       "    <tr>\n",
       "      <th>25%</th>\n",
       "      <td>1.000000</td>\n",
       "      <td>1.250000</td>\n",
       "      <td>13983.000000</td>\n",
       "    </tr>\n",
       "    <tr>\n",
       "      <th>50%</th>\n",
       "      <td>3.000000</td>\n",
       "      <td>2.100000</td>\n",
       "      <td>15311.000000</td>\n",
       "    </tr>\n",
       "    <tr>\n",
       "      <th>75%</th>\n",
       "      <td>10.000000</td>\n",
       "      <td>4.210000</td>\n",
       "      <td>16799.000000</td>\n",
       "    </tr>\n",
       "    <tr>\n",
       "      <th>max</th>\n",
       "      <td>19152.000000</td>\n",
       "      <td>25111.090000</td>\n",
       "      <td>18287.000000</td>\n",
       "    </tr>\n",
       "  </tbody>\n",
       "</table>\n",
       "</div>"
      ],
      "text/plain": [
       "            Quantity          Price    Customer ID\n",
       "count  525461.000000  525461.000000  417534.000000\n",
       "mean       10.337667       4.688834   15360.645478\n",
       "std       107.424110     146.126914    1680.811316\n",
       "min     -9600.000000  -53594.360000   12346.000000\n",
       "25%         1.000000       1.250000   13983.000000\n",
       "50%         3.000000       2.100000   15311.000000\n",
       "75%        10.000000       4.210000   16799.000000\n",
       "max     19152.000000   25111.090000   18287.000000"
      ]
     },
     "execution_count": 11,
     "metadata": {},
     "output_type": "execute_result"
    }
   ],
   "source": [
    "df.describe()"
   ]
  },
  {
   "cell_type": "code",
   "execution_count": 20,
   "metadata": {},
   "outputs": [],
   "source": [
    "df_sample = df.sample(1000)"
   ]
  },
  {
   "cell_type": "code",
   "execution_count": 24,
   "metadata": {},
   "outputs": [
    {
     "name": "stderr",
     "output_type": "stream",
     "text": [
      "C:\\Users\\ZEPHYRUS GU502GU\\AppData\\Roaming\\Python\\Python39\\site-packages\\ipykernel\\ipkernel.py:283: DeprecationWarning: `should_run_async` will not call `transform_cell` automatically in the future. Please pass the result to `transformed_cell` argument and any exception that happen during thetransform in `preprocessing_exc_tuple` in IPython 7.17 and above.\n",
      "  and should_run_async(code)\n"
     ]
    }
   ],
   "source": [
    "# group by invoice dengan stock code(item)\n",
    "transactions = df.groupby(\"Invoice\")[\"StockCode\"].apply(lambda x: x.astype(str).tolist()).tolist()\n",
    "\n",
    "#sample digunakakn untuk memastikan kode benar sebelum menggunakan df seluruhnya\n",
    "transactions_sample = df_sample.groupby(\"Invoice\")[\"StockCode\"].apply(lambda x: x.astype(str).tolist()).tolist()"
   ]
  },
  {
   "cell_type": "markdown",
   "metadata": {},
   "source": [
    "## Frequent pattern mining using FP - Growth Algorith"
   ]
  },
  {
   "cell_type": "code",
   "execution_count": 13,
   "metadata": {},
   "outputs": [],
   "source": [
    "import pyfpgrowth"
   ]
  },
  {
   "cell_type": "code",
   "execution_count": 19,
   "metadata": {},
   "outputs": [
    {
     "name": "stdout",
     "output_type": "stream",
     "text": [
      "Frequent Patterns:\n",
      "('22086',): 1007\n",
      "('21181',): 1038\n",
      "('47566',): 1041\n",
      "('21790',): 1044\n",
      "('22111',): 1048\n",
      "('22114',): 1051\n",
      "('22382',): 1059\n",
      "('20724',): 1070\n",
      "('22197',): 1073\n",
      "('85099F',): 1074\n",
      "('20685',): 1079\n",
      "('22469',): 1086\n",
      "('48138',): 1089\n",
      "('22384',): 1093\n",
      "('22411',): 1095\n",
      "('22386',): 1096\n",
      "('21231',): 1098\n",
      "('21733',): 1130\n",
      "('21755',): 1142\n",
      "('21843',): 1149\n",
      "('22470',): 1154\n",
      "('82494L',): 1165\n",
      "('20727',): 1179\n",
      "('22138',): 1180\n",
      "('22383',): 1192\n",
      "('21977',): 1196\n",
      "('22139',): 1203\n",
      "('21080',): 1209\n",
      "('21931',): 1220\n",
      "('21034',): 1232\n",
      "('20914',): 1276\n",
      "('21754',): 1386\n",
      "('84991',): 1400\n",
      "('84879',): 1458\n",
      "('20725',): 1620\n",
      "('21232',): 1843\n",
      "('21212',): 1933\n",
      "('85099B',): 2057\n",
      "('22423',): 2221\n",
      "('85123A',): 3516\n"
     ]
    }
   ],
   "source": [
    "min_support = 1000\n",
    "\n",
    "patterns = pyfpgrowth.find_frequent_patterns(transactions, min_support)\n",
    "\n",
    "print(\"Frequent Patterns:\")\n",
    "for pattern, support in patterns.items():\n",
    "    print(f\"{pattern}: {support}\")"
   ]
  },
  {
   "cell_type": "code",
   "execution_count": 21,
   "metadata": {},
   "outputs": [
    {
     "name": "stdout",
     "output_type": "stream",
     "text": [
      "Top 10 Frequent Patterns:\n",
      "('85123A',): 3516\n",
      "('22423',): 2221\n",
      "('85099B',): 2057\n",
      "('21212',): 1933\n",
      "('21232',): 1843\n",
      "('20725',): 1620\n",
      "('84879',): 1458\n",
      "('84991',): 1400\n",
      "('21754',): 1386\n",
      "('20914',): 1276\n"
     ]
    }
   ],
   "source": [
    "# sort pattern\n",
    "sorted_patterns = sorted(patterns.items(), key=lambda x: x[1], reverse=True)\n",
    "\n",
    "# print top 10 item with highest frequency\n",
    "print(\"Top 10 Frequent Patterns:\")\n",
    "for pattern, support in sorted_patterns[:10]:\n",
    "    print(f\"{pattern}: {support}\")"
   ]
  },
  {
   "cell_type": "markdown",
   "metadata": {},
   "source": [
    "## Association Rules using Apriori Algorithm"
   ]
  },
  {
   "cell_type": "code",
   "execution_count": 22,
   "metadata": {},
   "outputs": [],
   "source": [
    "from mlxtend.frequent_patterns import apriori\n",
    "from mlxtend.frequent_patterns import association_rules\n"
   ]
  },
  {
   "cell_type": "code",
   "execution_count": 33,
   "metadata": {},
   "outputs": [
    {
     "name": "stderr",
     "output_type": "stream",
     "text": [
      "C:\\Users\\ZEPHYRUS GU502GU\\AppData\\Roaming\\Python\\Python39\\site-packages\\ipykernel\\ipkernel.py:283: DeprecationWarning: `should_run_async` will not call `transform_cell` automatically in the future. Please pass the result to `transformed_cell` argument and any exception that happen during thetransform in `preprocessing_exc_tuple` in IPython 7.17 and above.\n",
      "  and should_run_async(code)\n"
     ]
    }
   ],
   "source": [
    "# Create a function to one-hot encode the transactions\n",
    "def one_hot_encode(transaction):\n",
    "    transaction_set = set(transaction)\n",
    "    one_hot = {item: (item in transaction_set) for item in transaction_set}\n",
    "    return one_hot"
   ]
  },
  {
   "cell_type": "code",
   "execution_count": 35,
   "metadata": {},
   "outputs": [
    {
     "name": "stderr",
     "output_type": "stream",
     "text": [
      "C:\\Users\\ZEPHYRUS GU502GU\\AppData\\Roaming\\Python\\Python39\\site-packages\\ipykernel\\ipkernel.py:283: DeprecationWarning: `should_run_async` will not call `transform_cell` automatically in the future. Please pass the result to `transformed_cell` argument and any exception that happen during thetransform in `preprocessing_exc_tuple` in IPython 7.17 and above.\n",
      "  and should_run_async(code)\n"
     ]
    }
   ],
   "source": [
    "# Extract relevant columns for frequent pattern mining\n",
    "# Assuming you want to use \"Invoice\" as transactions and \"StockCode\" as items\n",
    "transactions = df.groupby(\"Invoice\")[\"StockCode\"].apply(list).tolist()\n",
    "# Apply one-hot encoding to each transaction\n",
    "encoded_transactions = [one_hot_encode(transaction) for transaction in transactions]\n",
    "\n",
    "# Convert the list of dictionaries to a DataFrame\n",
    "oht = pd.DataFrame(encoded_transactions).fillna(False)\n"
   ]
  },
  {
   "cell_type": "code",
   "execution_count": 53,
   "metadata": {},
   "outputs": [
    {
     "name": "stderr",
     "output_type": "stream",
     "text": [
      "C:\\Users\\ZEPHYRUS GU502GU\\AppData\\Roaming\\Python\\Python39\\site-packages\\ipykernel\\ipkernel.py:283: DeprecationWarning: `should_run_async` will not call `transform_cell` automatically in the future. Please pass the result to `transformed_cell` argument and any exception that happen during thetransform in `preprocessing_exc_tuple` in IPython 7.17 and above.\n",
      "  and should_run_async(code)\n"
     ]
    },
    {
     "name": "stdout",
     "output_type": "stream",
     "text": [
      "Association Rules with min_support=0.05 and  min_threshold=1.0 :\n",
      "Empty DataFrame\n",
      "Columns: [antecedents, consequents, antecedent support, consequent support, support, confidence, lift, leverage, conviction, zhangs_metric]\n",
      "Index: []\n"
     ]
    }
   ],
   "source": [
    "# Use the Apriori algorithm to find frequent itemsets\n",
    "frequent_itemsets = apriori(oht, min_support=0.05, use_colnames=True)\n",
    "# Use the association_rules function to generate association rules\n",
    "rules = association_rules(frequent_itemsets, metric=\"lift\", min_threshold=1.0)\n",
    "# Print the association rules\n",
    "print(\"Association Rules with min_support=0.05 and  min_threshold=1.0 :\")\n",
    "print(rules)"
   ]
  },
  {
   "cell_type": "code",
   "execution_count": 54,
   "metadata": {},
   "outputs": [
    {
     "name": "stderr",
     "output_type": "stream",
     "text": [
      "C:\\Users\\ZEPHYRUS GU502GU\\AppData\\Roaming\\Python\\Python39\\site-packages\\ipykernel\\ipkernel.py:283: DeprecationWarning: `should_run_async` will not call `transform_cell` automatically in the future. Please pass the result to `transformed_cell` argument and any exception that happen during thetransform in `preprocessing_exc_tuple` in IPython 7.17 and above.\n",
      "  and should_run_async(code)\n"
     ]
    },
    {
     "name": "stdout",
     "output_type": "stream",
     "text": [
      "Association Rules with min_support=0.04 and  min_threshold=1.0 :\n",
      "Empty DataFrame\n",
      "Columns: [antecedents, consequents, antecedent support, consequent support, support, confidence, lift, leverage, conviction, zhangs_metric]\n",
      "Index: []\n"
     ]
    }
   ],
   "source": [
    "# Use the Apriori algorithm to find frequent itemsets\n",
    "frequent_itemsets = apriori(oht, min_support=0.04, use_colnames=True)\n",
    "# Use the association_rules function to generate association rules\n",
    "rules = association_rules(frequent_itemsets, metric=\"lift\", min_threshold=1.0)\n",
    "# Print the association rules\n",
    "print(\"Association Rules with min_support=0.04 and  min_threshold=1.0 :\")\n",
    "print(rules)\n",
    "\n"
   ]
  },
  {
   "cell_type": "code",
   "execution_count": 55,
   "metadata": {},
   "outputs": [
    {
     "name": "stderr",
     "output_type": "stream",
     "text": [
      "C:\\Users\\ZEPHYRUS GU502GU\\AppData\\Roaming\\Python\\Python39\\site-packages\\ipykernel\\ipkernel.py:283: DeprecationWarning: `should_run_async` will not call `transform_cell` automatically in the future. Please pass the result to `transformed_cell` argument and any exception that happen during thetransform in `preprocessing_exc_tuple` in IPython 7.17 and above.\n",
      "  and should_run_async(code)\n"
     ]
    },
    {
     "name": "stdout",
     "output_type": "stream",
     "text": [
      "Association Rules with min_support=0.03 and  min_threshold=1.0 :\n",
      "Empty DataFrame\n",
      "Columns: [antecedents, consequents, antecedent support, consequent support, support, confidence, lift, leverage, conviction, zhangs_metric]\n",
      "Index: []\n"
     ]
    }
   ],
   "source": [
    "# Use the Apriori algorithm to find frequent itemsets\n",
    "frequent_itemsets = apriori(oht, min_support=0.03, use_colnames=True)\n",
    "# Use the association_rules function to generate association rules\n",
    "rules = association_rules(frequent_itemsets, metric=\"lift\", min_threshold=1.0)\n",
    "# Print the association rules\n",
    "print(\"Association Rules with min_support=0.03 and  min_threshold=1.0 :\")\n",
    "print(rules)\n",
    "\n"
   ]
  },
  {
   "cell_type": "code",
   "execution_count": 56,
   "metadata": {},
   "outputs": [
    {
     "name": "stderr",
     "output_type": "stream",
     "text": [
      "C:\\Users\\ZEPHYRUS GU502GU\\AppData\\Roaming\\Python\\Python39\\site-packages\\ipykernel\\ipkernel.py:283: DeprecationWarning: `should_run_async` will not call `transform_cell` automatically in the future. Please pass the result to `transformed_cell` argument and any exception that happen during thetransform in `preprocessing_exc_tuple` in IPython 7.17 and above.\n",
      "  and should_run_async(code)\n"
     ]
    },
    {
     "name": "stdout",
     "output_type": "stream",
     "text": [
      "Association Rules with min_support=0.02 and  min_threshold=1.0 :\n",
      "   antecedents consequents  antecedent support  consequent support   support  \\\n",
      "0      (21232)     (21231)            0.061320            0.036334  0.028387   \n",
      "1      (21231)     (21232)            0.036334            0.061320  0.028387   \n",
      "2      (21754)     (21755)            0.046537            0.038277  0.020371   \n",
      "3      (21755)     (21754)            0.038277            0.046537  0.020371   \n",
      "4     (85123A)     (21733)            0.117157            0.037792  0.027068   \n",
      "5      (21733)    (85123A)            0.037792            0.117157  0.027068   \n",
      "6      (20725)     (20727)            0.054657            0.039492  0.020336   \n",
      "7      (20727)     (20725)            0.039492            0.054657  0.020336   \n",
      "8      (21931)    (85099B)            0.041539            0.069788  0.021585   \n",
      "9     (85099B)     (21931)            0.069788            0.041539  0.021585   \n",
      "10    (85099F)    (85099B)            0.036542            0.069788  0.023112   \n",
      "11    (85099B)    (85099F)            0.069788            0.036542  0.023112   \n",
      "12     (22386)    (85099B)            0.037236            0.069788  0.021898   \n",
      "13    (85099B)     (22386)            0.069788            0.037236  0.021898   \n",
      "14     (21977)     (84991)            0.040255            0.046571  0.020648   \n",
      "15     (84991)     (21977)            0.046571            0.040255  0.020648   \n",
      "16     (21977)     (21212)            0.040255            0.064721  0.024535   \n",
      "17     (21212)     (21977)            0.064721            0.040255  0.024535   \n",
      "18     (21212)     (84991)            0.064721            0.046571  0.026825   \n",
      "19     (84991)     (21212)            0.046571            0.064721  0.026825   \n",
      "20     (82482)    (82494L)            0.033315            0.039423  0.021065   \n",
      "21    (82494L)     (82482)            0.039423            0.033315  0.021065   \n",
      "\n",
      "    confidence       lift  leverage  conviction  zhangs_metric  \n",
      "0     0.462932  12.741007  0.026159    1.794308       0.981712  \n",
      "1     0.781280  12.741007  0.026159    4.291694       0.956258  \n",
      "2     0.437733  11.435825  0.018589    1.710438       0.957096  \n",
      "3     0.532185  11.435825  0.018589    2.038120       0.948876  \n",
      "4     0.231043   6.113614  0.022641    1.251316       0.947429  \n",
      "5     0.716253   6.113614  0.022641    3.111378       0.869282  \n",
      "6     0.372063   9.421249  0.018177    1.529626       0.945537  \n",
      "7     0.514938   9.421249  0.018177    1.948913       0.930609  \n",
      "8     0.519632   7.445911  0.018686    1.936460       0.903217  \n",
      "9     0.309299   7.445911  0.018686    1.387663       0.930646  \n",
      "10    0.632479   9.062906  0.020562    2.531043       0.923403  \n",
      "11    0.331179   9.062906  0.020562    1.440531       0.956405  \n",
      "12    0.588071   8.426578  0.019299    2.258185       0.915414  \n",
      "13    0.313774   8.426578  0.019299    1.402984       0.947448  \n",
      "14    0.512931  11.013875  0.018774    1.957482       0.947341  \n",
      "15    0.443368  11.013875  0.018774    1.724200       0.953617  \n",
      "16    0.609483   9.417081  0.021930    2.394975       0.931300  \n",
      "17    0.379088   9.417081  0.021930    1.545703       0.955661  \n",
      "18    0.414477   8.899833  0.023811    1.628337       0.949063  \n",
      "19    0.576006   8.899833  0.023811    2.205878       0.930996  \n",
      "20    0.632292  16.038835  0.019751    2.612335       0.969966  \n",
      "21    0.534331  16.038835  0.019751    2.075906       0.976133  \n"
     ]
    }
   ],
   "source": [
    "# Use the Apriori algorithm to find frequent itemsets\n",
    "frequent_itemsets = apriori(oht, min_support=0.02, use_colnames=True)\n",
    "# Use the association_rules function to generate association rules\n",
    "rules = association_rules(frequent_itemsets, metric=\"lift\", min_threshold=1.0)\n",
    "# Print the association rules\n",
    "print(\"Association Rules with min_support=0.02 and  min_threshold=1.0 :\")\n",
    "print(rules)"
   ]
  },
  {
   "cell_type": "markdown",
   "metadata": {},
   "source": [
    "## Report : "
   ]
  },
  {
   "cell_type": "markdown",
   "metadata": {},
   "source": [
    "References : \n",
    "\n",
    "- https://pypi.org/project/pyfpgrowth/\n",
    "\n",
    "- https://fp-growth.readthedocs.io/en/latest/usage.html\n",
    "\n",
    "- https://github.com/evandempsey/fp-growth\n"
   ]
  },
  {
   "cell_type": "markdown",
   "metadata": {},
   "source": []
  }
 ],
 "metadata": {
  "kernelspec": {
   "display_name": "Python 3",
   "language": "python",
   "name": "python3"
  },
  "language_info": {
   "codemirror_mode": {
    "name": "ipython",
    "version": 3
   },
   "file_extension": ".py",
   "mimetype": "text/x-python",
   "name": "python",
   "nbconvert_exporter": "python",
   "pygments_lexer": "ipython3",
   "version": "3.9.0"
  },
  "orig_nbformat": 4
 },
 "nbformat": 4,
 "nbformat_minor": 2
}
